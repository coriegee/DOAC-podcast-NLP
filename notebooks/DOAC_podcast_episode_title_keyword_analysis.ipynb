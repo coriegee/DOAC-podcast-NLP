{
 "cells": [
  {
   "cell_type": "markdown",
   "id": "04607cf8",
   "metadata": {},
   "source": [
    "# DOAC Podcast Episode Title Keyword Analysis\n",
    "\n",
    "There are many variables that are known to affect podcast episode views, a few examples would be:\n",
    "\n",
    "* The notoriety of the host\n",
    "* The notoriety of the guest speaker\n",
    "* Episode release datetime\n",
    "* Episode duration\n",
    "* Thumbnail\n",
    "\n",
    "This notebook aims to analyse the \"Dairy of a CEO\" podcast by episode **title keyword frequency** (using TF-IDF) and it's correlation to episode view count."
   ]
  },
  {
   "cell_type": "markdown",
   "id": "30815ca7",
   "metadata": {},
   "source": [
    "## Import libraries"
   ]
  },
  {
   "cell_type": "code",
   "execution_count": 1,
   "id": "dc0982f2",
   "metadata": {
    "ExecuteTime": {
     "end_time": "2023-08-13T11:01:49.567748Z",
     "start_time": "2023-08-13T11:01:47.481954Z"
    }
   },
   "outputs": [
    {
     "data": {
      "text/html": [
       "<style>.container { width:75% !important; }</style>"
      ],
      "text/plain": [
       "<IPython.core.display.HTML object>"
      ]
     },
     "metadata": {},
     "output_type": "display_data"
    }
   ],
   "source": [
    "import pandas as pd\n",
    "import string\n",
    "import numpy as np\n",
    "import matplotlib.pyplot as plt\n",
    "import spacy\n",
    "import re\n",
    "from tqdm import tqdm\n",
    "from nltk.tokenize import word_tokenize\n",
    "from sklearn.feature_extraction.text import TfidfVectorizer\n",
    "from scipy.stats import spearmanr, skew\n",
    "from IPython.display import display, HTML\n",
    "display(HTML(\"<style>.container { width:75% !important; }</style>\"))"
   ]
  },
  {
   "cell_type": "markdown",
   "id": "cd595dca",
   "metadata": {},
   "source": [
    "## Load the data"
   ]
  },
  {
   "cell_type": "code",
   "execution_count": 2,
   "id": "82b86f6e",
   "metadata": {
    "ExecuteTime": {
     "end_time": "2023-08-13T11:01:49.784292Z",
     "start_time": "2023-08-13T11:01:49.571710Z"
    }
   },
   "outputs": [],
   "source": [
    "# Load the spreadsheet data into a pandas DataFrame\n",
    "data = pd.read_excel('DOAC_youtube_dataset.xlsx')"
   ]
  },
  {
   "cell_type": "markdown",
   "id": "75a2da39",
   "metadata": {},
   "source": [
    "## Data exploration"
   ]
  },
  {
   "cell_type": "code",
   "execution_count": 3,
   "id": "20515dad",
   "metadata": {
    "ExecuteTime": {
     "end_time": "2023-08-13T11:01:49.815354Z",
     "start_time": "2023-08-13T11:01:49.786297Z"
    }
   },
   "outputs": [
    {
     "data": {
      "text/html": [
       "<div>\n",
       "<style scoped>\n",
       "    .dataframe tbody tr th:only-of-type {\n",
       "        vertical-align: middle;\n",
       "    }\n",
       "\n",
       "    .dataframe tbody tr th {\n",
       "        vertical-align: top;\n",
       "    }\n",
       "\n",
       "    .dataframe thead th {\n",
       "        text-align: right;\n",
       "    }\n",
       "</style>\n",
       "<table border=\"1\" class=\"dataframe\">\n",
       "  <thead>\n",
       "    <tr style=\"text-align: right;\">\n",
       "      <th></th>\n",
       "      <th>Title</th>\n",
       "      <th>URL</th>\n",
       "      <th>Views</th>\n",
       "    </tr>\n",
       "  </thead>\n",
       "  <tbody>\n",
       "    <tr>\n",
       "      <th>0</th>\n",
       "      <td>CMO Of Netflix: \"Work Life Balance\" Is BAD Adv...</td>\n",
       "      <td>https://www.youtube.com/watch?v=cuVTVOdkmek</td>\n",
       "      <td>136,578</td>\n",
       "    </tr>\n",
       "    <tr>\n",
       "      <th>1</th>\n",
       "      <td>WARNING: ChatGPT Could Be The Start Of The End...</td>\n",
       "      <td>https://www.youtube.com/watch?v=GmlrEgLGozw</td>\n",
       "      <td>519,547</td>\n",
       "    </tr>\n",
       "    <tr>\n",
       "      <th>2</th>\n",
       "      <td>The Man Thats Ageing Backwards: “I Was 45, I’m...</td>\n",
       "      <td>https://www.youtube.com/watch?v=1yfoonW1InE</td>\n",
       "      <td>747,145</td>\n",
       "    </tr>\n",
       "    <tr>\n",
       "      <th>3</th>\n",
       "      <td>will.i.am Opens Up: Depression, Creativity &amp; A...</td>\n",
       "      <td>https://www.youtube.com/watch?v=1m-2QhqdlfI</td>\n",
       "      <td>447,756</td>\n",
       "    </tr>\n",
       "    <tr>\n",
       "      <th>4</th>\n",
       "      <td>Shocking TRUE Story: “I Lost Both Of My Legs B...</td>\n",
       "      <td>https://www.youtube.com/watch?v=NB4jZCxRkTw</td>\n",
       "      <td>517,779</td>\n",
       "    </tr>\n",
       "  </tbody>\n",
       "</table>\n",
       "</div>"
      ],
      "text/plain": [
       "                                               Title  \\\n",
       "0  CMO Of Netflix: \"Work Life Balance\" Is BAD Adv...   \n",
       "1  WARNING: ChatGPT Could Be The Start Of The End...   \n",
       "2  The Man Thats Ageing Backwards: “I Was 45, I’m...   \n",
       "3  will.i.am Opens Up: Depression, Creativity & A...   \n",
       "4  Shocking TRUE Story: “I Lost Both Of My Legs B...   \n",
       "\n",
       "                                           URL    Views  \n",
       "0  https://www.youtube.com/watch?v=cuVTVOdkmek  136,578  \n",
       "1  https://www.youtube.com/watch?v=GmlrEgLGozw  519,547  \n",
       "2  https://www.youtube.com/watch?v=1yfoonW1InE  747,145  \n",
       "3  https://www.youtube.com/watch?v=1m-2QhqdlfI  447,756  \n",
       "4  https://www.youtube.com/watch?v=NB4jZCxRkTw  517,779  "
      ]
     },
     "execution_count": 3,
     "metadata": {},
     "output_type": "execute_result"
    }
   ],
   "source": [
    "data.head()"
   ]
  },
  {
   "cell_type": "code",
   "execution_count": 4,
   "id": "ef8a1a64",
   "metadata": {
    "ExecuteTime": {
     "end_time": "2023-08-13T11:01:49.830318Z",
     "start_time": "2023-08-13T11:01:49.818304Z"
    }
   },
   "outputs": [
    {
     "data": {
      "text/plain": [
       "(215, 3)"
      ]
     },
     "execution_count": 4,
     "metadata": {},
     "output_type": "execute_result"
    }
   ],
   "source": [
    "data.shape"
   ]
  },
  {
   "cell_type": "markdown",
   "id": "48ef3c1b",
   "metadata": {},
   "source": [
    "This dataset was scraped from Youtube on 11th Aug 2023. It contains all of the 215 videos uploaded by @TheDiaryOfACEO channel. Each row represents a single video, with 3 pieces of information: `Title`, `URL` and `Views` for this simple NLP analysis (note URL isn't required)."
   ]
  },
  {
   "cell_type": "code",
   "execution_count": 5,
   "id": "74cc1870",
   "metadata": {
    "ExecuteTime": {
     "end_time": "2023-08-13T11:01:49.861889Z",
     "start_time": "2023-08-13T11:01:49.835309Z"
    }
   },
   "outputs": [
    {
     "data": {
      "text/html": [
       "<div>\n",
       "<style scoped>\n",
       "    .dataframe tbody tr th:only-of-type {\n",
       "        vertical-align: middle;\n",
       "    }\n",
       "\n",
       "    .dataframe tbody tr th {\n",
       "        vertical-align: top;\n",
       "    }\n",
       "\n",
       "    .dataframe thead th {\n",
       "        text-align: right;\n",
       "    }\n",
       "</style>\n",
       "<table border=\"1\" class=\"dataframe\">\n",
       "  <thead>\n",
       "    <tr style=\"text-align: right;\">\n",
       "      <th></th>\n",
       "      <th>Views</th>\n",
       "      <th>title_char_length</th>\n",
       "      <th>title_word_count</th>\n",
       "    </tr>\n",
       "  </thead>\n",
       "  <tbody>\n",
       "    <tr>\n",
       "      <th>count</th>\n",
       "      <td>2.150000e+02</td>\n",
       "      <td>215.000000</td>\n",
       "      <td>215.000000</td>\n",
       "    </tr>\n",
       "    <tr>\n",
       "      <th>mean</th>\n",
       "      <td>7.471333e+05</td>\n",
       "      <td>74.874419</td>\n",
       "      <td>13.455814</td>\n",
       "    </tr>\n",
       "    <tr>\n",
       "      <th>std</th>\n",
       "      <td>1.050844e+06</td>\n",
       "      <td>14.399768</td>\n",
       "      <td>2.569892</td>\n",
       "    </tr>\n",
       "    <tr>\n",
       "      <th>min</th>\n",
       "      <td>1.822300e+04</td>\n",
       "      <td>36.000000</td>\n",
       "      <td>7.000000</td>\n",
       "    </tr>\n",
       "    <tr>\n",
       "      <th>25%</th>\n",
       "      <td>1.608660e+05</td>\n",
       "      <td>63.500000</td>\n",
       "      <td>12.000000</td>\n",
       "    </tr>\n",
       "    <tr>\n",
       "      <th>50%</th>\n",
       "      <td>3.951470e+05</td>\n",
       "      <td>75.000000</td>\n",
       "      <td>13.000000</td>\n",
       "    </tr>\n",
       "    <tr>\n",
       "      <th>75%</th>\n",
       "      <td>8.731240e+05</td>\n",
       "      <td>86.000000</td>\n",
       "      <td>15.000000</td>\n",
       "    </tr>\n",
       "    <tr>\n",
       "      <th>max</th>\n",
       "      <td>6.984529e+06</td>\n",
       "      <td>100.000000</td>\n",
       "      <td>20.000000</td>\n",
       "    </tr>\n",
       "  </tbody>\n",
       "</table>\n",
       "</div>"
      ],
      "text/plain": [
       "              Views  title_char_length  title_word_count\n",
       "count  2.150000e+02         215.000000        215.000000\n",
       "mean   7.471333e+05          74.874419         13.455814\n",
       "std    1.050844e+06          14.399768          2.569892\n",
       "min    1.822300e+04          36.000000          7.000000\n",
       "25%    1.608660e+05          63.500000         12.000000\n",
       "50%    3.951470e+05          75.000000         13.000000\n",
       "75%    8.731240e+05          86.000000         15.000000\n",
       "max    6.984529e+06         100.000000         20.000000"
      ]
     },
     "execution_count": 5,
     "metadata": {},
     "output_type": "execute_result"
    }
   ],
   "source": [
    "# Convert Views columns to string, remove commas, and then convert to int\n",
    "data['Views'] = data['Views'].astype(str).str.replace(',', '').astype(int)  \n",
    "\n",
    "# Calculate title character length\n",
    "data['title_char_length'] = data['Title'].apply(lambda x: len(x))\n",
    "\n",
    "# Calculate title word count\n",
    "data['title_word_count'] = data['Title'].apply(lambda x: len(x.split(' ')))\n",
    "\n",
    "# Calculate general stats\n",
    "data.describe()"
   ]
  },
  {
   "cell_type": "code",
   "execution_count": 6,
   "id": "463e3e0d",
   "metadata": {
    "ExecuteTime": {
     "end_time": "2023-08-13T11:01:50.018831Z",
     "start_time": "2023-08-13T11:01:49.865887Z"
    }
   },
   "outputs": [
    {
     "data": {
      "image/png": "[encoded data removed]",
      "text/plain": [
       "<Figure size 640x480 with 1 Axes>"
      ]
     },
     "metadata": {},
     "output_type": "display_data"
    }
   ],
   "source": [
    "# Create histogram of 'Views'\n",
    "plt.hist(data['Views'], bins=30, edgecolor='black')  # You can adjust the number of bins as needed\n",
    "plt.title('Histogram of Views')\n",
    "plt.xlabel('Views (Millions)')\n",
    "plt.ylabel('Frequency')\n",
    "plt.show()"
   ]
  },
  {
   "cell_type": "code",
   "execution_count": 7,
   "id": "73202d44",
   "metadata": {
    "ExecuteTime": {
     "end_time": "2023-08-13T11:01:50.034919Z",
     "start_time": "2023-08-13T11:01:50.021872Z"
    }
   },
   "outputs": [
    {
     "name": "stdout",
     "output_type": "stream",
     "text": [
      "Skewness: 3.28728091234463\n"
     ]
    }
   ],
   "source": [
    "# Calculate skewness\n",
    "print(\"Skewness:\", skew(data['Views']))"
   ]
  },
  {
   "cell_type": "markdown",
   "id": "ca73ba23",
   "metadata": {},
   "source": [
    "#### Key things to note:\n",
    "* The range of **episode views** are from 18,223 to 6,984,529 views. With an average of 747,133 views per episode. The skewness value of 3.287 indicates that the distribution of the data is right-skewed, i.e. the majority of the data points are concentrated on the left side of the distribution. \n",
    "* The range of **title word count** are from 7 to 20. With an average of 13 words per episode title\n"
   ]
  },
  {
   "cell_type": "markdown",
   "id": "a52b3485",
   "metadata": {},
   "source": [
    "## Preprocess the episode titles for the TF-IDF calculation"
   ]
  },
  {
   "cell_type": "code",
   "execution_count": 8,
   "id": "a5d0edaa",
   "metadata": {
    "ExecuteTime": {
     "end_time": "2023-08-13T11:03:15.576990Z",
     "start_time": "2023-08-13T11:01:50.038411Z"
    }
   },
   "outputs": [
    {
     "name": "stderr",
     "output_type": "stream",
     "text": [
      "100%|████████████████████████████████████████████████████████████████████████████████| 215/215 [01:25<00:00,  2.51it/s]\n"
     ]
    },
    {
     "data": {
      "text/html": [
       "<div>\n",
       "<style scoped>\n",
       "    .dataframe tbody tr th:only-of-type {\n",
       "        vertical-align: middle;\n",
       "    }\n",
       "\n",
       "    .dataframe tbody tr th {\n",
       "        vertical-align: top;\n",
       "    }\n",
       "\n",
       "    .dataframe thead th {\n",
       "        text-align: right;\n",
       "    }\n",
       "</style>\n",
       "<table border=\"1\" class=\"dataframe\">\n",
       "  <thead>\n",
       "    <tr style=\"text-align: right;\">\n",
       "      <th></th>\n",
       "      <th>Title</th>\n",
       "      <th>URL</th>\n",
       "      <th>Views</th>\n",
       "      <th>title_char_length</th>\n",
       "      <th>title_word_count</th>\n",
       "      <th>Preprocessed_titles</th>\n",
       "    </tr>\n",
       "  </thead>\n",
       "  <tbody>\n",
       "    <tr>\n",
       "      <th>0</th>\n",
       "      <td>CMO Of Netflix: \"Work Life Balance\" Is BAD Adv...</td>\n",
       "      <td>https://www.youtube.com/watch?v=cuVTVOdkmek</td>\n",
       "      <td>136578</td>\n",
       "      <td>79</td>\n",
       "      <td>16</td>\n",
       "      <td>cmo of netflix work life balance is bad advice...</td>\n",
       "    </tr>\n",
       "    <tr>\n",
       "      <th>1</th>\n",
       "      <td>WARNING: ChatGPT Could Be The Start Of The End...</td>\n",
       "      <td>https://www.youtube.com/watch?v=GmlrEgLGozw</td>\n",
       "      <td>519547</td>\n",
       "      <td>58</td>\n",
       "      <td>11</td>\n",
       "      <td>warning chatgpt could be the start of the end</td>\n",
       "    </tr>\n",
       "    <tr>\n",
       "      <th>2</th>\n",
       "      <td>The Man Thats Ageing Backwards: “I Was 45, I’m...</td>\n",
       "      <td>https://www.youtube.com/watch?v=1yfoonW1InE</td>\n",
       "      <td>747145</td>\n",
       "      <td>71</td>\n",
       "      <td>14</td>\n",
       "      <td>the man thats ageing backwards i was 45 i’m no...</td>\n",
       "    </tr>\n",
       "    <tr>\n",
       "      <th>3</th>\n",
       "      <td>will.i.am Opens Up: Depression, Creativity &amp; A...</td>\n",
       "      <td>https://www.youtube.com/watch?v=1m-2QhqdlfI</td>\n",
       "      <td>447756</td>\n",
       "      <td>50</td>\n",
       "      <td>7</td>\n",
       "      <td>opens up depression creativity  adhd</td>\n",
       "    </tr>\n",
       "    <tr>\n",
       "      <th>4</th>\n",
       "      <td>Shocking TRUE Story: “I Lost Both Of My Legs B...</td>\n",
       "      <td>https://www.youtube.com/watch?v=NB4jZCxRkTw</td>\n",
       "      <td>517779</td>\n",
       "      <td>98</td>\n",
       "      <td>18</td>\n",
       "      <td>shocking true story i lost both of my legs bec...</td>\n",
       "    </tr>\n",
       "  </tbody>\n",
       "</table>\n",
       "</div>"
      ],
      "text/plain": [
       "                                               Title  \\\n",
       "0  CMO Of Netflix: \"Work Life Balance\" Is BAD Adv...   \n",
       "1  WARNING: ChatGPT Could Be The Start Of The End...   \n",
       "2  The Man Thats Ageing Backwards: “I Was 45, I’m...   \n",
       "3  will.i.am Opens Up: Depression, Creativity & A...   \n",
       "4  Shocking TRUE Story: “I Lost Both Of My Legs B...   \n",
       "\n",
       "                                           URL   Views  title_char_length  \\\n",
       "0  https://www.youtube.com/watch?v=cuVTVOdkmek  136578                 79   \n",
       "1  https://www.youtube.com/watch?v=GmlrEgLGozw  519547                 58   \n",
       "2  https://www.youtube.com/watch?v=1yfoonW1InE  747145                 71   \n",
       "3  https://www.youtube.com/watch?v=1m-2QhqdlfI  447756                 50   \n",
       "4  https://www.youtube.com/watch?v=NB4jZCxRkTw  517779                 98   \n",
       "\n",
       "   title_word_count                                Preprocessed_titles  \n",
       "0                16  cmo of netflix work life balance is bad advice...  \n",
       "1                11     warning chatgpt could be the start of the end   \n",
       "2                14  the man thats ageing backwards i was 45 i’m no...  \n",
       "3                 7               opens up depression creativity  adhd  \n",
       "4                18  shocking true story i lost both of my legs bec...  "
      ]
     },
     "execution_count": 8,
     "metadata": {},
     "output_type": "execute_result"
    }
   ],
   "source": [
    "# Create new `pandas` methods which uses `tqdm` progress \n",
    "tqdm.pandas()\n",
    "\n",
    "def preprocess_text(text):\n",
    "    '''Prepare the title text for TF-IDF vectorizer'''\n",
    "    \n",
    "    # Convert to lowercase\n",
    "    text = text.lower()\n",
    "    \n",
    "    # Remove punctuation\n",
    "    text = text.translate(str.maketrans('', '', string.punctuation)).replace('“', '').replace('”', '')\n",
    "\n",
    "    # load spacy model\n",
    "    nlp = spacy.load(\"en_core_web_sm\")\n",
    "\n",
    "    # Remove people's names\n",
    "    doc = nlp(text)\n",
    "    for name in [ent for ent in doc.ents]:\n",
    "        if name.label_ == \"PERSON\":\n",
    "            text = text.replace(str(name), '')\n",
    "\n",
    "    # Remove less common names which aren't removed by the spacy model\n",
    "    for remove_name in [' gawdat ', ' mo ', ' sinek ']:\n",
    "        text = text.replace(remove_name, '')\n",
    "\n",
    "    # Remove episode number using regex\n",
    "    text = re.sub(r'e\\d+', '', text)\n",
    "\n",
    "    return text\n",
    "\n",
    "# Apply preprocessing function to the 'Title' column\n",
    "data['Preprocessed_titles'] = data['Title'].progress_apply(preprocess_text)\n",
    "\n",
    "# Put the titles in a list\n",
    "corpus = data['Preprocessed_titles'].tolist()\n",
    "\n",
    "# Display the dataframe\n",
    "data.head()"
   ]
  },
  {
   "cell_type": "markdown",
   "id": "1a7c5aa9",
   "metadata": {},
   "source": [
    "## Calculate TF-IDF of the keywords\n",
    "\n",
    "TF-IDF (Term Frequency - Inverse Document Frequency) is a method to measure the importance of words in a document collection. It combines how often a word appears in a document (TF) with how unique it is across all documents (IDF) to highlight words that are both frequent in a document and distinctive to that document collection. In this case, we will be calculating how frequent the word appears in an episode title and how unique it is across all titles.\n",
    "\n",
    "$TF(t, d) = \\frac{\\text{Number of times term } t \\text{ appears in document } d}{\\text{Total number of terms in document } d}$\n",
    "\n",
    "$IDF(t, D) = \\log\\left(\\frac{\\text{Total number of documents in } D}{\\text{Number of documents containing term } t + 1}\\right)$\n",
    "\n",
    "\n",
    "$TFIDF(t, d, D) = TF(t, d) \\times IDF(t, D)$\n",
    "​\n"
   ]
  },
  {
   "cell_type": "code",
   "execution_count": 9,
   "id": "ff7c8967",
   "metadata": {
    "ExecuteTime": {
     "end_time": "2023-08-13T11:03:15.624305Z",
     "start_time": "2023-08-13T11:03:15.583479Z"
    }
   },
   "outputs": [
    {
     "data": {
      "text/html": [
       "<div>\n",
       "<style scoped>\n",
       "    .dataframe tbody tr th:only-of-type {\n",
       "        vertical-align: middle;\n",
       "    }\n",
       "\n",
       "    .dataframe tbody tr th {\n",
       "        vertical-align: top;\n",
       "    }\n",
       "\n",
       "    .dataframe thead th {\n",
       "        text-align: right;\n",
       "    }\n",
       "</style>\n",
       "<table border=\"1\" class=\"dataframe\">\n",
       "  <thead>\n",
       "    <tr style=\"text-align: right;\">\n",
       "      <th></th>\n",
       "      <th>10</th>\n",
       "      <th>100</th>\n",
       "      <th>1000</th>\n",
       "      <th>11</th>\n",
       "      <th>110</th>\n",
       "      <th>12</th>\n",
       "      <th>120lbs</th>\n",
       "      <th>127lb</th>\n",
       "      <th>14</th>\n",
       "      <th>15</th>\n",
       "      <th>...</th>\n",
       "      <th>wrongfully</th>\n",
       "      <th>yates</th>\n",
       "      <th>year</th>\n",
       "      <th>years</th>\n",
       "      <th>yeo</th>\n",
       "      <th>young</th>\n",
       "      <th>youngest</th>\n",
       "      <th>youtube</th>\n",
       "      <th>youve</th>\n",
       "      <th>yung</th>\n",
       "    </tr>\n",
       "  </thead>\n",
       "  <tbody>\n",
       "    <tr>\n",
       "      <th>0</th>\n",
       "      <td>0.0</td>\n",
       "      <td>0.0</td>\n",
       "      <td>0.0</td>\n",
       "      <td>0.0</td>\n",
       "      <td>0.0</td>\n",
       "      <td>0.0</td>\n",
       "      <td>0.0</td>\n",
       "      <td>0.0</td>\n",
       "      <td>0.0</td>\n",
       "      <td>0.0</td>\n",
       "      <td>...</td>\n",
       "      <td>0.0</td>\n",
       "      <td>0.0</td>\n",
       "      <td>0.0</td>\n",
       "      <td>0.0</td>\n",
       "      <td>0.0</td>\n",
       "      <td>0.0</td>\n",
       "      <td>0.0</td>\n",
       "      <td>0.0</td>\n",
       "      <td>0.0</td>\n",
       "      <td>0.0</td>\n",
       "    </tr>\n",
       "    <tr>\n",
       "      <th>1</th>\n",
       "      <td>0.0</td>\n",
       "      <td>0.0</td>\n",
       "      <td>0.0</td>\n",
       "      <td>0.0</td>\n",
       "      <td>0.0</td>\n",
       "      <td>0.0</td>\n",
       "      <td>0.0</td>\n",
       "      <td>0.0</td>\n",
       "      <td>0.0</td>\n",
       "      <td>0.0</td>\n",
       "      <td>...</td>\n",
       "      <td>0.0</td>\n",
       "      <td>0.0</td>\n",
       "      <td>0.0</td>\n",
       "      <td>0.0</td>\n",
       "      <td>0.0</td>\n",
       "      <td>0.0</td>\n",
       "      <td>0.0</td>\n",
       "      <td>0.0</td>\n",
       "      <td>0.0</td>\n",
       "      <td>0.0</td>\n",
       "    </tr>\n",
       "    <tr>\n",
       "      <th>2</th>\n",
       "      <td>0.0</td>\n",
       "      <td>0.0</td>\n",
       "      <td>0.0</td>\n",
       "      <td>0.0</td>\n",
       "      <td>0.0</td>\n",
       "      <td>0.0</td>\n",
       "      <td>0.0</td>\n",
       "      <td>0.0</td>\n",
       "      <td>0.0</td>\n",
       "      <td>0.0</td>\n",
       "      <td>...</td>\n",
       "      <td>0.0</td>\n",
       "      <td>0.0</td>\n",
       "      <td>0.0</td>\n",
       "      <td>0.0</td>\n",
       "      <td>0.0</td>\n",
       "      <td>0.0</td>\n",
       "      <td>0.0</td>\n",
       "      <td>0.0</td>\n",
       "      <td>0.0</td>\n",
       "      <td>0.0</td>\n",
       "    </tr>\n",
       "    <tr>\n",
       "      <th>3</th>\n",
       "      <td>0.0</td>\n",
       "      <td>0.0</td>\n",
       "      <td>0.0</td>\n",
       "      <td>0.0</td>\n",
       "      <td>0.0</td>\n",
       "      <td>0.0</td>\n",
       "      <td>0.0</td>\n",
       "      <td>0.0</td>\n",
       "      <td>0.0</td>\n",
       "      <td>0.0</td>\n",
       "      <td>...</td>\n",
       "      <td>0.0</td>\n",
       "      <td>0.0</td>\n",
       "      <td>0.0</td>\n",
       "      <td>0.0</td>\n",
       "      <td>0.0</td>\n",
       "      <td>0.0</td>\n",
       "      <td>0.0</td>\n",
       "      <td>0.0</td>\n",
       "      <td>0.0</td>\n",
       "      <td>0.0</td>\n",
       "    </tr>\n",
       "    <tr>\n",
       "      <th>4</th>\n",
       "      <td>0.0</td>\n",
       "      <td>0.0</td>\n",
       "      <td>0.0</td>\n",
       "      <td>0.0</td>\n",
       "      <td>0.0</td>\n",
       "      <td>0.0</td>\n",
       "      <td>0.0</td>\n",
       "      <td>0.0</td>\n",
       "      <td>0.0</td>\n",
       "      <td>0.0</td>\n",
       "      <td>...</td>\n",
       "      <td>0.0</td>\n",
       "      <td>0.0</td>\n",
       "      <td>0.0</td>\n",
       "      <td>0.0</td>\n",
       "      <td>0.0</td>\n",
       "      <td>0.0</td>\n",
       "      <td>0.0</td>\n",
       "      <td>0.0</td>\n",
       "      <td>0.0</td>\n",
       "      <td>0.0</td>\n",
       "    </tr>\n",
       "  </tbody>\n",
       "</table>\n",
       "<p>5 rows × 807 columns</p>\n",
       "</div>"
      ],
      "text/plain": [
       "    10  100  1000   11  110   12  120lbs  127lb   14   15  ...  wrongfully  \\\n",
       "0  0.0  0.0   0.0  0.0  0.0  0.0     0.0    0.0  0.0  0.0  ...         0.0   \n",
       "1  0.0  0.0   0.0  0.0  0.0  0.0     0.0    0.0  0.0  0.0  ...         0.0   \n",
       "2  0.0  0.0   0.0  0.0  0.0  0.0     0.0    0.0  0.0  0.0  ...         0.0   \n",
       "3  0.0  0.0   0.0  0.0  0.0  0.0     0.0    0.0  0.0  0.0  ...         0.0   \n",
       "4  0.0  0.0   0.0  0.0  0.0  0.0     0.0    0.0  0.0  0.0  ...         0.0   \n",
       "\n",
       "   yates  year  years  yeo  young  youngest  youtube  youve  yung  \n",
       "0    0.0   0.0    0.0  0.0    0.0       0.0      0.0    0.0   0.0  \n",
       "1    0.0   0.0    0.0  0.0    0.0       0.0      0.0    0.0   0.0  \n",
       "2    0.0   0.0    0.0  0.0    0.0       0.0      0.0    0.0   0.0  \n",
       "3    0.0   0.0    0.0  0.0    0.0       0.0      0.0    0.0   0.0  \n",
       "4    0.0   0.0    0.0  0.0    0.0       0.0      0.0    0.0   0.0  \n",
       "\n",
       "[5 rows x 807 columns]"
      ]
     },
     "execution_count": 9,
     "metadata": {},
     "output_type": "execute_result"
    }
   ],
   "source": [
    "# Create a TF-IDF vectorizer\n",
    "tfidf_vectorizer = TfidfVectorizer(stop_words='english')\n",
    "\n",
    "# Fit and transform the titles using the TF-IDF vectorizer\n",
    "tfidf_matrix = tfidf_vectorizer.fit_transform(corpus)\n",
    "\n",
    "# Convert the TF-IDF matrix to a DataFrame for easier analysis\n",
    "tfidf_df = pd.DataFrame(tfidf_matrix.toarray(), columns=tfidf_vectorizer.get_feature_names_out())\n",
    "\n",
    "# Display the TF-IDF matrix DataFrame\n",
    "tfidf_df.head()"
   ]
  },
  {
   "cell_type": "code",
   "execution_count": 10,
   "id": "76a9fff3",
   "metadata": {
    "ExecuteTime": {
     "end_time": "2023-08-13T11:03:15.655600Z",
     "start_time": "2023-08-13T11:03:15.627303Z"
    }
   },
   "outputs": [
    {
     "name": "stdout",
     "output_type": "stream",
     "text": [
      "Count of unique words: 807\n"
     ]
    }
   ],
   "source": [
    "print(f\"Count of unique words: {len(tfidf_vectorizer.get_feature_names_out())}\")"
   ]
  },
  {
   "cell_type": "code",
   "execution_count": 11,
   "id": "faf9ee88",
   "metadata": {
    "ExecuteTime": {
     "end_time": "2023-08-13T11:03:15.671159Z",
     "start_time": "2023-08-13T11:03:15.658550Z"
    }
   },
   "outputs": [
    {
     "name": "stdout",
     "output_type": "stream",
     "text": [
      "Top TF-IDF scoring Keywords:\n",
      "life: 0.0286\n",
      "founder: 0.0217\n",
      "world: 0.0196\n",
      "opens: 0.0190\n",
      "story: 0.0189\n",
      "billion: 0.0189\n",
      "business: 0.0187\n",
      "expert: 0.0163\n",
      "man: 0.0153\n",
      "million: 0.0148\n",
      "built: 0.0148\n",
      "secret: 0.0147\n",
      "mind: 0.0129\n",
      "anxiety: 0.0125\n",
      "success: 0.0120\n",
      "dark: 0.0116\n",
      "happiness: 0.0112\n",
      "untold: 0.0108\n",
      "build: 0.0107\n",
      "no1: 0.0106\n"
     ]
    }
   ],
   "source": [
    "# Calculate the average TF-IDF score for each word across all titles\n",
    "average_tfidf_scores = tfidf_df.mean()\n",
    "\n",
    "# Sort the words by average TF-IDF score in descending order\n",
    "sorted_words = average_tfidf_scores.sort_values(ascending=False)\n",
    "\n",
    "# Display the top N words with the highest average TF-IDF scores\n",
    "top_n = 20 \n",
    "top_words = sorted_words.head(top_n)\n",
    "\n",
    "print(\"Top TF-IDF scoring Keywords:\")\n",
    "for word, score in top_words.items():\n",
    "    print(f\"{word}: {score:.4f}\")"
   ]
  },
  {
   "cell_type": "markdown",
   "id": "578f7179",
   "metadata": {},
   "source": [
    "'life', 'founder' and 'world' are the top TF-IDF scoring keywords, meaning they are both frequent in titles and distinctive to the title collection. This list doesn't really give us any insightful data to act upon just yet, so next we will find the correlation between keyword TF-IDF and view count "
   ]
  },
  {
   "cell_type": "markdown",
   "id": "bf5c3eb2",
   "metadata": {},
   "source": [
    "First, let's visualise the distribution of a word TF-IDF score"
   ]
  },
  {
   "cell_type": "code",
   "execution_count": 12,
   "id": "710c6b53",
   "metadata": {
    "ExecuteTime": {
     "end_time": "2023-08-13T11:03:15.888651Z",
     "start_time": "2023-08-13T11:03:15.698118Z"
    }
   },
   "outputs": [
    {
     "data": {
      "image/png": "[encoded data removed]",
      "text/plain": [
       "<Figure size 640x480 with 1 Axes>"
      ]
     },
     "metadata": {},
     "output_type": "display_data"
    }
   ],
   "source": [
    "# Create histogram of \"founder\" TF-IDF column\n",
    "plt.hist(tfidf_df['founder'], bins=30, edgecolor='black') \n",
    "plt.title('Histogram of TF-IDF for word \"founder\" column')\n",
    "plt.xlabel('\"founder\" TF-IDF score')\n",
    "plt.ylabel('Frequency')\n",
    "plt.show()"
   ]
  },
  {
   "cell_type": "code",
   "execution_count": 13,
   "id": "8c50039f",
   "metadata": {
    "ExecuteTime": {
     "end_time": "2023-08-13T11:03:15.904232Z",
     "start_time": "2023-08-13T11:03:15.891297Z"
    }
   },
   "outputs": [
    {
     "name": "stdout",
     "output_type": "stream",
     "text": [
      "Skewness: 3.442225365575323\n"
     ]
    }
   ],
   "source": [
    "# Calculate skewness\n",
    "print(\"Skewness:\", skew(tfidf_df['founder']))"
   ]
  },
  {
   "cell_type": "markdown",
   "id": "f92ad8ed",
   "metadata": {},
   "source": [
    "You will of course notice that majority of TF-IDF score values are zero, since the word doesn't appear in all titles."
   ]
  },
  {
   "cell_type": "markdown",
   "id": "60c007f3",
   "metadata": {},
   "source": [
    "## Find the correlation between Keyword TF-IDF and view count\n",
    "\n",
    "Both the TF-IDF score and view count are nonnegative continuous variables that have a right skewed distribution, traditional correlation metrics like Pearson's correlation coefficient might not provide accurate insights due to their sensitivity to outliers and assumption of a normal distribution. In such case, we'll use Spearman's rank correlation coefficient which is a non-parametric measure of association between two variables, which means it doesn't assume any specific distribution of the data. It is less sensitive to outliers and is suitable for monotonic relationships between two variables."
   ]
  },
  {
   "cell_type": "code",
   "execution_count": 14,
   "id": "960c0a29",
   "metadata": {
    "ExecuteTime": {
     "end_time": "2023-08-13T11:03:16.363745Z",
     "start_time": "2023-08-13T11:03:15.907231Z"
    },
    "scrolled": false
   },
   "outputs": [
    {
     "name": "stdout",
     "output_type": "stream",
     "text": [
      "Top 20 Correlated Keywords with View Count:\n",
      "man: Correlation Coefficient: 0.2005 | P-value: 0.0031515902849740024 |  statistically significant: True\n",
      "weight: Correlation Coefficient: 0.1640 | P-value: 0.016083592143038075 |  statistically significant: True\n",
      "loss: Correlation Coefficient: 0.1634 | P-value: 0.016479921925968723 |  statistically significant: True\n",
      "calories: Correlation Coefficient: 0.1592 | P-value: 0.01947757603802582 |  statistically significant: True\n",
      "sugar: Correlation Coefficient: 0.1545 | P-value: 0.02342206518401722 |  statistically significant: True\n",
      "doctor: Correlation Coefficient: 0.1540 | P-value: 0.023910856556735454 |  statistically significant: True\n",
      "live: Correlation Coefficient: 0.1532 | P-value: 0.024659225332160025 |  statistically significant: True\n",
      "speaks: Correlation Coefficient: 0.1498 | P-value: 0.028075091842916986 |  statistically significant: True\n",
      "love: Correlation Coefficient: 0.1486 | P-value: 0.02935317399335764 |  statistically significant: True\n",
      "expert: Correlation Coefficient: 0.1419 | P-value: 0.037577039341386044 |  statistically significant: True\n",
      "happier: Correlation Coefficient: 0.1392 | P-value: 0.04139883332387898 |  statistically significant: True\n",
      "number: Correlation Coefficient: 0.1390 | P-value: 0.041740314963153995 |  statistically significant: True\n",
      "reason: Correlation Coefficient: 0.1390 | P-value: 0.041740314963153995 |  statistically significant: True\n",
      "need: Correlation Coefficient: 0.1389 | P-value: 0.04182666423212562 |  statistically significant: True\n",
      "sleep: Correlation Coefficient: 0.1348 | P-value: 0.04830500735429029 |  statistically significant: True\n",
      "scientist: Correlation Coefficient: 0.1345 | P-value: 0.048953562105315075 |  statistically significant: True\n",
      "no1: Correlation Coefficient: 0.1326 | P-value: 0.05214199249243265 |  statistically significant: False\n",
      "new: Correlation Coefficient: 0.1308 | P-value: 0.055487725648465665 |  statistically significant: False\n",
      "finally: Correlation Coefficient: 0.1289 | P-value: 0.05911321921640408 |  statistically significant: False\n",
      "1000: Correlation Coefficient: 0.1233 | P-value: 0.07124504109467379 |  statistically significant: False\n"
     ]
    }
   ],
   "source": [
    "# Calculate Spearman's rank correlation coefficient and p-value between each keyword and view counts\n",
    "correlation_results = {}\n",
    "\n",
    "for keyword in tfidf_df.columns:\n",
    "    keyword_column = tfidf_df[keyword]\n",
    "    correlation_coefficient, p_value = spearmanr(keyword_column, data['Views'])\n",
    "    correlation_results[keyword] = (correlation_coefficient, p_value)\n",
    "\n",
    "# Sort the words by correlation in descending order\n",
    "sorted_words = sorted(correlation_results.items(), key=lambda x: x[1][0], reverse=True)\n",
    "\n",
    "# Display the sorted words and their correlation\n",
    "print(\"Top 20 Correlated Keywords with View Count:\")\n",
    "for i, val in enumerate(sorted_words):\n",
    "    print(f\"{val[0]}: Correlation Coefficient: {val[1][0]:.4f} | P-value: {val[1][1]} |  statistically significant: {val[1][1] < 0.05}\")\n",
    "    if i == 19:\n",
    "        break"
   ]
  },
  {
   "cell_type": "markdown",
   "id": "8885f69d",
   "metadata": {},
   "source": [
    "## Data visualisation\n",
    "\n",
    "There are some title keywords correlated to episode view count, some positively correlated and some negative. Let's visualise this in horizontal bar charts for easier consumption."
   ]
  },
  {
   "cell_type": "code",
   "execution_count": 15,
   "id": "c2cdd0a5",
   "metadata": {
    "ExecuteTime": {
     "end_time": "2023-08-13T11:03:16.647692Z",
     "start_time": "2023-08-13T11:03:16.368253Z"
    }
   },
   "outputs": [
    {
     "data": {
      "image/png": "[encoded data removed]",
      "text/plain": [
       "<Figure size 1000x600 with 1 Axes>"
      ]
     },
     "metadata": {},
     "output_type": "display_data"
    }
   ],
   "source": [
    "# Extract the top N words and their correlation coefficient for visualisation\n",
    "top_n = 30 \n",
    "top_words = [word for word, _ in sorted_words[:top_n]]\n",
    "weighted_scores = [score[0] for _, score in sorted_words[:top_n]]\n",
    "\n",
    "# Create a horizontal bar chart\n",
    "plt.figure(figsize=(10, 6))\n",
    "plt.barh(top_words, weighted_scores, color='skyblue')\n",
    "plt.xlabel('Correlation coefficient')\n",
    "plt.ylabel('Episode Title Keyword')\n",
    "plt.title(f'Top {top_n} Title Keywords Correlated with Episode View Count')\n",
    "plt.gca().invert_yaxis()  # Invert y-axis to have the highest score at the top\n",
    "plt.tight_layout()\n",
    "\n",
    "# Show the bar chart\n",
    "plt.show()\n"
   ]
  },
  {
   "cell_type": "code",
   "execution_count": 16,
   "id": "b5d222f7",
   "metadata": {
    "ExecuteTime": {
     "end_time": "2023-08-13T11:03:16.931090Z",
     "start_time": "2023-08-13T11:03:16.651650Z"
    }
   },
   "outputs": [
    {
     "data": {
      "image/png": "[encoded data removed]",
      "text/plain": [
       "<Figure size 1000x600 with 1 Axes>"
      ]
     },
     "metadata": {},
     "output_type": "display_data"
    }
   ],
   "source": [
    "# Extract the bottom N words and their weighted scores for visualization\n",
    "bottom_n = 30  \n",
    "bottom_words = [word for word, _ in sorted_words[-bottom_n:]]\n",
    "weighted_scores = [score[0] for _, score in sorted_words[-bottom_n:]]\n",
    "\n",
    "# Create a horizontal bar chart\n",
    "plt.figure(figsize=(10, 6))\n",
    "plt.barh(bottom_words, weighted_scores, color='skyblue')\n",
    "plt.xlabel('Correlation coefficient')\n",
    "plt.ylabel('Keyword')\n",
    "plt.title(f'Bottom {bottom_n} Title Keywords Correlated with Episode View Count (Highest inverse correlation)')\n",
    "plt.gca().invert_yaxis()  # Invert y-axis to have the highest score at the top\n",
    "plt.tight_layout()\n",
    "\n",
    "# Show the bar chart\n",
    "plt.show()"
   ]
  },
  {
   "cell_type": "markdown",
   "id": "b1a70c96",
   "metadata": {},
   "source": [
    "## Let's remove keywords where the correlation to view count is statistically insignificant.\n",
    "\n",
    "We will use the commonly used significance level of 0.05 to indicate if the observed correlation coefficient is statistically significant. In other words, it is highly unlikely that such a correlation coefficient could have occurred due to random chance alone. "
   ]
  },
  {
   "cell_type": "code",
   "execution_count": 17,
   "id": "878a1c99",
   "metadata": {
    "ExecuteTime": {
     "end_time": "2023-08-13T11:03:16.962044Z",
     "start_time": "2023-08-13T11:03:16.934098Z"
    },
    "scrolled": true
   },
   "outputs": [
    {
     "data": {
      "text/html": [
       "<div>\n",
       "<style scoped>\n",
       "    .dataframe tbody tr th:only-of-type {\n",
       "        vertical-align: middle;\n",
       "    }\n",
       "\n",
       "    .dataframe tbody tr th {\n",
       "        vertical-align: top;\n",
       "    }\n",
       "\n",
       "    .dataframe thead th {\n",
       "        text-align: right;\n",
       "    }\n",
       "</style>\n",
       "<table border=\"1\" class=\"dataframe\">\n",
       "  <thead>\n",
       "    <tr style=\"text-align: right;\">\n",
       "      <th></th>\n",
       "      <th>word</th>\n",
       "      <th>coefficient</th>\n",
       "      <th>p_value</th>\n",
       "      <th>statistically_significant</th>\n",
       "    </tr>\n",
       "  </thead>\n",
       "  <tbody>\n",
       "    <tr>\n",
       "      <th>0</th>\n",
       "      <td>man</td>\n",
       "      <td>0.200483</td>\n",
       "      <td>0.003152</td>\n",
       "      <td>True</td>\n",
       "    </tr>\n",
       "    <tr>\n",
       "      <th>1</th>\n",
       "      <td>weight</td>\n",
       "      <td>0.164000</td>\n",
       "      <td>0.016084</td>\n",
       "      <td>True</td>\n",
       "    </tr>\n",
       "    <tr>\n",
       "      <th>2</th>\n",
       "      <td>loss</td>\n",
       "      <td>0.163402</td>\n",
       "      <td>0.016480</td>\n",
       "      <td>True</td>\n",
       "    </tr>\n",
       "    <tr>\n",
       "      <th>3</th>\n",
       "      <td>calories</td>\n",
       "      <td>0.159242</td>\n",
       "      <td>0.019478</td>\n",
       "      <td>True</td>\n",
       "    </tr>\n",
       "    <tr>\n",
       "      <th>4</th>\n",
       "      <td>sugar</td>\n",
       "      <td>0.154544</td>\n",
       "      <td>0.023422</td>\n",
       "      <td>True</td>\n",
       "    </tr>\n",
       "    <tr>\n",
       "      <th>5</th>\n",
       "      <td>doctor</td>\n",
       "      <td>0.154010</td>\n",
       "      <td>0.023911</td>\n",
       "      <td>True</td>\n",
       "    </tr>\n",
       "    <tr>\n",
       "      <th>6</th>\n",
       "      <td>live</td>\n",
       "      <td>0.153211</td>\n",
       "      <td>0.024659</td>\n",
       "      <td>True</td>\n",
       "    </tr>\n",
       "    <tr>\n",
       "      <th>7</th>\n",
       "      <td>speaks</td>\n",
       "      <td>0.149809</td>\n",
       "      <td>0.028075</td>\n",
       "      <td>True</td>\n",
       "    </tr>\n",
       "    <tr>\n",
       "      <th>8</th>\n",
       "      <td>love</td>\n",
       "      <td>0.148627</td>\n",
       "      <td>0.029353</td>\n",
       "      <td>True</td>\n",
       "    </tr>\n",
       "    <tr>\n",
       "      <th>9</th>\n",
       "      <td>expert</td>\n",
       "      <td>0.141925</td>\n",
       "      <td>0.037577</td>\n",
       "      <td>True</td>\n",
       "    </tr>\n",
       "    <tr>\n",
       "      <th>10</th>\n",
       "      <td>happier</td>\n",
       "      <td>0.139227</td>\n",
       "      <td>0.041399</td>\n",
       "      <td>True</td>\n",
       "    </tr>\n",
       "    <tr>\n",
       "      <th>11</th>\n",
       "      <td>number</td>\n",
       "      <td>0.138996</td>\n",
       "      <td>0.041740</td>\n",
       "      <td>True</td>\n",
       "    </tr>\n",
       "    <tr>\n",
       "      <th>12</th>\n",
       "      <td>reason</td>\n",
       "      <td>0.138996</td>\n",
       "      <td>0.041740</td>\n",
       "      <td>True</td>\n",
       "    </tr>\n",
       "    <tr>\n",
       "      <th>13</th>\n",
       "      <td>need</td>\n",
       "      <td>0.138938</td>\n",
       "      <td>0.041827</td>\n",
       "      <td>True</td>\n",
       "    </tr>\n",
       "    <tr>\n",
       "      <th>14</th>\n",
       "      <td>sleep</td>\n",
       "      <td>0.134842</td>\n",
       "      <td>0.048305</td>\n",
       "      <td>True</td>\n",
       "    </tr>\n",
       "    <tr>\n",
       "      <th>15</th>\n",
       "      <td>scientist</td>\n",
       "      <td>0.134458</td>\n",
       "      <td>0.048954</td>\n",
       "      <td>True</td>\n",
       "    </tr>\n",
       "    <tr>\n",
       "      <th>801</th>\n",
       "      <td>darkest</td>\n",
       "      <td>-0.146723</td>\n",
       "      <td>0.031517</td>\n",
       "      <td>True</td>\n",
       "    </tr>\n",
       "    <tr>\n",
       "      <th>802</th>\n",
       "      <td>led</td>\n",
       "      <td>-0.150541</td>\n",
       "      <td>0.027308</td>\n",
       "      <td>True</td>\n",
       "    </tr>\n",
       "    <tr>\n",
       "      <th>803</th>\n",
       "      <td>days</td>\n",
       "      <td>-0.151354</td>\n",
       "      <td>0.026477</td>\n",
       "      <td>True</td>\n",
       "    </tr>\n",
       "    <tr>\n",
       "      <th>804</th>\n",
       "      <td>dollar</td>\n",
       "      <td>-0.163997</td>\n",
       "      <td>0.016086</td>\n",
       "      <td>True</td>\n",
       "    </tr>\n",
       "    <tr>\n",
       "      <th>805</th>\n",
       "      <td>billion</td>\n",
       "      <td>-0.196553</td>\n",
       "      <td>0.003810</td>\n",
       "      <td>True</td>\n",
       "    </tr>\n",
       "    <tr>\n",
       "      <th>806</th>\n",
       "      <td>founder</td>\n",
       "      <td>-0.292622</td>\n",
       "      <td>0.000013</td>\n",
       "      <td>True</td>\n",
       "    </tr>\n",
       "  </tbody>\n",
       "</table>\n",
       "</div>"
      ],
      "text/plain": [
       "          word  coefficient   p_value  statistically_significant\n",
       "0          man     0.200483  0.003152                       True\n",
       "1       weight     0.164000  0.016084                       True\n",
       "2         loss     0.163402  0.016480                       True\n",
       "3     calories     0.159242  0.019478                       True\n",
       "4        sugar     0.154544  0.023422                       True\n",
       "5       doctor     0.154010  0.023911                       True\n",
       "6         live     0.153211  0.024659                       True\n",
       "7       speaks     0.149809  0.028075                       True\n",
       "8         love     0.148627  0.029353                       True\n",
       "9       expert     0.141925  0.037577                       True\n",
       "10     happier     0.139227  0.041399                       True\n",
       "11      number     0.138996  0.041740                       True\n",
       "12      reason     0.138996  0.041740                       True\n",
       "13        need     0.138938  0.041827                       True\n",
       "14       sleep     0.134842  0.048305                       True\n",
       "15   scientist     0.134458  0.048954                       True\n",
       "801    darkest    -0.146723  0.031517                       True\n",
       "802        led    -0.150541  0.027308                       True\n",
       "803       days    -0.151354  0.026477                       True\n",
       "804     dollar    -0.163997  0.016086                       True\n",
       "805    billion    -0.196553  0.003810                       True\n",
       "806    founder    -0.292622  0.000013                       True"
      ]
     },
     "execution_count": 17,
     "metadata": {},
     "output_type": "execute_result"
    }
   ],
   "source": [
    "# Create a DataFrame, calculate if p < 0.05 and then filter out statistically insignificant keywords\n",
    "word_corr_df = pd.DataFrame([[keyword, score_tup[0], score_tup[1]] for keyword, score_tup in sorted_words], columns=['word', 'coefficient', 'p_value'])\n",
    "word_corr_df['statistically_significant'] = word_corr_df['p_value'].apply(lambda x: x < 0.05)\n",
    "word_corr_df = word_corr_df[word_corr_df['statistically_significant'] == True]\n",
    "word_corr_df"
   ]
  },
  {
   "cell_type": "code",
   "execution_count": 18,
   "id": "4ded6388",
   "metadata": {
    "ExecuteTime": {
     "end_time": "2023-08-13T11:03:16.992972Z",
     "start_time": "2023-08-13T11:03:16.964227Z"
    }
   },
   "outputs": [
    {
     "data": {
      "text/plain": [
       "22"
      ]
     },
     "execution_count": 18,
     "metadata": {},
     "output_type": "execute_result"
    }
   ],
   "source": [
    "len(word_corr_df)"
   ]
  },
  {
   "cell_type": "markdown",
   "id": "bbf8c36e",
   "metadata": {},
   "source": [
    "In this case, we are left with only 22 keywords that are considered statistically significant in correlation to views. The majority of words have only a small sample size across the entire dataset and thus there is possibly not enough data points to detect significant effects. \n",
    "\n",
    "All the correlation coefficients are between 0.3 and -0.3, meaning the strongest correlations are still considered weak. There are of course many variables that will affect the view count of episodes so to find some weak correlations here is still somewhat interesting and potentially useful.\n",
    "\n",
    "Below we'll analyse the remaining keywords in more detail."
   ]
  },
  {
   "cell_type": "code",
   "execution_count": 19,
   "id": "a69c4c44",
   "metadata": {
    "ExecuteTime": {
     "end_time": "2023-08-13T11:03:17.199144Z",
     "start_time": "2023-08-13T11:03:16.995991Z"
    }
   },
   "outputs": [
    {
     "data": {
      "image/png": "[encoded data removed]",
      "text/plain": [
       "<Figure size 1000x600 with 1 Axes>"
      ]
     },
     "metadata": {},
     "output_type": "display_data"
    }
   ],
   "source": [
    "# Create a horizontal bar chart\n",
    "plt.figure(figsize=(10, 6))\n",
    "plt.barh(word_corr_df.word, word_corr_df.coefficient, color='green')\n",
    "plt.xlabel('Correlation Coefficient')\n",
    "plt.ylabel('Keyword')\n",
    "plt.title(f'Keywords with Statistical Significant Correlation with View Count')\n",
    "plt.gca().invert_yaxis()  # Invert y-axis to have the highest score at the top\n",
    "plt.tight_layout()\n",
    "\n",
    "# Show the bar chart\n",
    "plt.show()\n"
   ]
  },
  {
   "cell_type": "markdown",
   "id": "c96a8e7f",
   "metadata": {},
   "source": [
    "### There are some interesting findings here as well as some expected results\n",
    "#### Positive Correlations:\n",
    "* \"man\" was the title word that had the highest positive correlation with episode view count, suggesting that the audience is more inclined to watch an episode if the guest speaker is male, possibly due to a larger male audience (just a hypothesis without access to the data to validate this).\n",
    "* Lots of words within the \"Health and Wellbeing\" category (\"weight\", \"loss\", \"calories\", \"sugar\", \"sleep\") that have a positive correlation to views, suggesting the audience is more likely to watch Health and Wellbeing topics than anything else.\n",
    "* The nouns \"doctor\", \"expert\" and \"scientist\" suggesting viewers prefer to watch episodes with guests that are considered to be very knowledgeable about or skilful in a particular area. Perhaps this is expected, but it is valuable to know that these words should be included in the title if applicable.\n",
    "\n",
    "#### Negative Correlations:\n",
    "* Interestingly, \"founder\" has the most negative correlation to view count at -0.29. Suggesting that the viewers are not that interested in conversations with guest founders and are less likely to watch an episode when this word is mentioned.\n",
    "* Similarly, \"billion\" and \"dollar\" are negatively correlated to view count, indicating the audience of DOAC are suprisingly not as interested in watching episodes about making money or businesses as they are about losing weight and improving health."
   ]
  },
  {
   "cell_type": "markdown",
   "id": "660ff5ad",
   "metadata": {},
   "source": [
    "\n",
    "#### It will help us to understand and validate this difference between the most positively and negatively correlated words \"man\" and \"founder\" in terms of view count if we visualise them together in a scatter plot below."
   ]
  },
  {
   "cell_type": "code",
   "execution_count": 20,
   "id": "fa9065bc",
   "metadata": {
    "ExecuteTime": {
     "end_time": "2023-08-13T11:03:17.372546Z",
     "start_time": "2023-08-13T11:03:17.203097Z"
    }
   },
   "outputs": [
    {
     "data": {
      "image/png": "[encoded data removed]",
      "text/plain": [
       "<Figure size 640x480 with 1 Axes>"
      ]
     },
     "metadata": {},
     "output_type": "display_data"
    }
   ],
   "source": [
    "# Create a scatter plot\n",
    "x = data['Views']\n",
    "y1 = tfidf_df['man']\n",
    "y2 = tfidf_df['founder']\n",
    "\n",
    "plt.scatter(x, y1, color='blue', label='\"man\" count')\n",
    "plt.scatter(x, y2, color='red', label='\"Founder\" count')\n",
    "\n",
    "# Set the minimum value of the y-axis to 0.01 to remove episodes where the word count was 0\n",
    "plt.ylim(0.1, None)\n",
    "\n",
    "# Add labels, title and legend\n",
    "plt.xlabel('Views (Million)')\n",
    "plt.ylabel('Keyword TF-IDF score by title')\n",
    "plt.title('Keyword TF-IDF score by title vs episode view count')\n",
    "plt.legend()\n",
    "\n",
    "# Display the plot\n",
    "plt.show()"
   ]
  },
  {
   "cell_type": "markdown",
   "id": "d4ef35c7",
   "metadata": {},
   "source": [
    "Each data point is a single title. By removing the titles with zero-count occurences (TF-IDF score of 0) we can quite easily see here that there is indeed a significant difference between the red and blue clusters. When the word \"man\" is used in the title the number of episode views is increased relative to when the word \"founder\" is present in the title, validating our Spearman's rank correlation coefficient results above."
   ]
  },
  {
   "cell_type": "markdown",
   "id": "53bca319",
   "metadata": {},
   "source": [
    "## Conclusion\n",
    "\n"
   ]
  },
  {
   "cell_type": "markdown",
   "id": "d20e3ed8",
   "metadata": {},
   "source": [
    "This notebook has aimed to analyse only the keywords in the title of the podcast and indirectly the topic of the episode against the view count it received. This analysis has been somewhat insightful in that we have identified a number of keywords that are weakly correlated with view count and thus would benefit the podcast host by helping him understand which title words and topics have been most impactful in his podcast. This information can guide future title creation or choice of episode topics to optimize engagement and viewership. A key insight I personally found surprising was that the audience favours health and wellbeing topics against business and money making topics, which is the opposite of my initial assumption considering the podcast is titled \"Dairy of a CEO\" and hosted by Steven Bartlett who is known for his success as an entrepreneur and investor. It's worth highlighting again that all correlations between words and views were weak at most, suggesting that there are many more factors that contribute to the view count of an episode other than title words (and thus episode topic)."
   ]
  },
  {
   "cell_type": "code",
   "execution_count": null,
   "id": "bfe77369",
   "metadata": {},
   "outputs": [],
   "source": []
  },
  {
   "cell_type": "markdown",
   "id": "88800f25",
   "metadata": {},
   "source": [
    "## Appendix"
   ]
  },
  {
   "cell_type": "markdown",
   "id": "07c81c68",
   "metadata": {},
   "source": [
    "Below is a slight variation to the correlation analysis by using a binary indicator of 1 if a word appears in a title instead of using TD-IDF to calculate the Spearman's rank correlation coefficient. This is to determine if this variation would give a similar result."
   ]
  },
  {
   "cell_type": "code",
   "execution_count": 21,
   "id": "e3dd9523",
   "metadata": {
    "ExecuteTime": {
     "end_time": "2023-08-13T11:03:18.276545Z",
     "start_time": "2023-08-13T11:03:17.378549Z"
    }
   },
   "outputs": [
    {
     "name": "stderr",
     "output_type": "stream",
     "text": [
      "C:\\GIT\\DOAC-podcast-NLP\\env\\lib\\site-packages\\ipykernel_launcher.py:11: PerformanceWarning: DataFrame is highly fragmented.  This is usually the result of calling `frame.insert` many times, which has poor performance.  Consider joining all columns at once using pd.concat(axis=1) instead.  To get a de-fragmented frame, use `newframe = frame.copy()`\n",
      "  # This is added back by InteractiveShellApp.init_path()\n",
      "C:\\GIT\\DOAC-podcast-NLP\\env\\lib\\site-packages\\scipy\\stats\\stats.py:4484: SpearmanRConstantInputWarning: An input array is constant; the correlation coefficient is not defined.\n",
      "  warnings.warn(SpearmanRConstantInputWarning())\n"
     ]
    },
    {
     "data": {
      "text/html": [
       "<div>\n",
       "<style scoped>\n",
       "    .dataframe tbody tr th:only-of-type {\n",
       "        vertical-align: middle;\n",
       "    }\n",
       "\n",
       "    .dataframe tbody tr th {\n",
       "        vertical-align: top;\n",
       "    }\n",
       "\n",
       "    .dataframe thead th {\n",
       "        text-align: right;\n",
       "    }\n",
       "</style>\n",
       "<table border=\"1\" class=\"dataframe\">\n",
       "  <thead>\n",
       "    <tr style=\"text-align: right;\">\n",
       "      <th></th>\n",
       "      <th>word</th>\n",
       "      <th>correlation_coefficient</th>\n",
       "      <th>p_value</th>\n",
       "    </tr>\n",
       "  </thead>\n",
       "  <tbody>\n",
       "    <tr>\n",
       "      <th>444</th>\n",
       "      <td>man</td>\n",
       "      <td>0.201697</td>\n",
       "      <td>0.002970</td>\n",
       "    </tr>\n",
       "    <tr>\n",
       "      <th>778</th>\n",
       "      <td>weight</td>\n",
       "      <td>0.164164</td>\n",
       "      <td>0.015977</td>\n",
       "    </tr>\n",
       "    <tr>\n",
       "      <th>432</th>\n",
       "      <td>loss</td>\n",
       "      <td>0.164164</td>\n",
       "      <td>0.015977</td>\n",
       "    </tr>\n",
       "    <tr>\n",
       "      <th>119</th>\n",
       "      <td>calories</td>\n",
       "      <td>0.159251</td>\n",
       "      <td>0.019471</td>\n",
       "    </tr>\n",
       "    <tr>\n",
       "      <th>214</th>\n",
       "      <td>doctor</td>\n",
       "      <td>0.155154</td>\n",
       "      <td>0.022874</td>\n",
       "    </tr>\n",
       "    <tr>\n",
       "      <th>...</th>\n",
       "      <td>...</td>\n",
       "      <td>...</td>\n",
       "      <td>...</td>\n",
       "    </tr>\n",
       "    <tr>\n",
       "      <th>401</th>\n",
       "      <td>led</td>\n",
       "      <td>-0.150299</td>\n",
       "      <td>0.027560</td>\n",
       "    </tr>\n",
       "    <tr>\n",
       "      <th>188</th>\n",
       "      <td>days</td>\n",
       "      <td>-0.151418</td>\n",
       "      <td>0.026412</td>\n",
       "    </tr>\n",
       "    <tr>\n",
       "      <th>216</th>\n",
       "      <td>dollar</td>\n",
       "      <td>-0.163591</td>\n",
       "      <td>0.016354</td>\n",
       "    </tr>\n",
       "    <tr>\n",
       "      <th>88</th>\n",
       "      <td>billion</td>\n",
       "      <td>-0.199462</td>\n",
       "      <td>0.003312</td>\n",
       "    </tr>\n",
       "    <tr>\n",
       "      <th>281</th>\n",
       "      <td>founder</td>\n",
       "      <td>-0.294378</td>\n",
       "      <td>0.000011</td>\n",
       "    </tr>\n",
       "  </tbody>\n",
       "</table>\n",
       "<p>805 rows × 3 columns</p>\n",
       "</div>"
      ],
      "text/plain": [
       "         word  correlation_coefficient   p_value\n",
       "444       man                 0.201697  0.002970\n",
       "778    weight                 0.164164  0.015977\n",
       "432      loss                 0.164164  0.015977\n",
       "119  calories                 0.159251  0.019471\n",
       "214    doctor                 0.155154  0.022874\n",
       "..        ...                      ...       ...\n",
       "401       led                -0.150299  0.027560\n",
       "188      days                -0.151418  0.026412\n",
       "216    dollar                -0.163591  0.016354\n",
       "88    billion                -0.199462  0.003312\n",
       "281   founder                -0.294378  0.000011\n",
       "\n",
       "[805 rows x 3 columns]"
      ]
     },
     "execution_count": 21,
     "metadata": {},
     "output_type": "execute_result"
    }
   ],
   "source": [
    "df = data.copy()\n",
    "\n",
    "# List of words to analyze\n",
    "words_to_analyze = list(tfidf_vectorizer.get_feature_names_out())\n",
    "\n",
    "# Tokenize titles\n",
    "df['Tokenized_titles'] = df['Preprocessed_titles'].apply(word_tokenize)\n",
    "\n",
    "# Create indicator columns for each word\n",
    "for word in words_to_analyze:\n",
    "    df[word + '_indicator'] = df['Tokenized_titles'].apply(lambda tokens: int(word in tokens))\n",
    "    \n",
    "# Calculate Spearman's rank correlation coefficient and p-value between each keyword and view counts\n",
    "word_list = []\n",
    "correlation_coefficient_list = []\n",
    "p_value_list = []\n",
    "\n",
    "# Calculate correlation for each word's indicator column\n",
    "for word in words_to_analyze:\n",
    "    word_list.append(word)\n",
    "    correlation_coefficient, p_value = spearmanr(df[word + '_indicator'], df['Views'])\n",
    "    correlation_coefficient_list.append(correlation_coefficient)\n",
    "    p_value_list.append(p_value)\n",
    "    \n",
    "correlation_results = {\n",
    "    'word': word_list,\n",
    "    'correlation_coefficient': correlation_coefficient_list,\n",
    "    'p_value': p_value_list\n",
    "}\n",
    "    \n",
    "spear_coeff_df = pd.DataFrame(correlation_results)\n",
    "spear_coeff_df.sort_values('correlation_coefficient', ascending=False).dropna()"
   ]
  },
  {
   "cell_type": "markdown",
   "id": "d7f1cdf4",
   "metadata": {},
   "source": [
    "The results are indeed the same as using the TD-IDF score."
   ]
  },
  {
   "cell_type": "code",
   "execution_count": null,
   "id": "04b804cc",
   "metadata": {},
   "outputs": [],
   "source": []
  }
 ],
 "metadata": {
  "kernelspec": {
   "display_name": "Python 3 (ipykernel)",
   "language": "python",
   "name": "python3"
  },
  "language_info": {
   "codemirror_mode": {
    "name": "ipython",
    "version": 3
   },
   "file_extension": ".py",
   "mimetype": "text/x-python",
   "name": "python",
   "nbconvert_exporter": "python",
   "pygments_lexer": "ipython3",
   "version": "3.7.16"
  }
 },
 "nbformat": 4,
 "nbformat_minor": 5
}
